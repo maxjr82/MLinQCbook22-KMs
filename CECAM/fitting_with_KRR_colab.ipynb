{
  "cells": [
    {
      "cell_type": "markdown",
      "source": [
        "# **Fitting with KRR**"
      ],
      "metadata": {
        "id": "HfwHKyLCm7J8"
      },
      "id": "HfwHKyLCm7J8"
    },
    {
      "cell_type": "markdown",
      "metadata": {
        "id": "kmM10yoY7sBK"
      },
      "source": [
        "<table align=\"left\"><td>\n",
        "  <a target=\"_blank\"  href=\"https://colab.research.google.com/github/maxjr82/MLinQCbook22-KMs/blob/master/CECAM/fitting_with_KRR_colab.ipynb\">\n",
        "    <img src=\"https://www.tensorflow.org/images/colab_logo_32px.png\" />Run in Google Colab\n",
        "  </a>\n",
        "</td><td>\n",
        "  <a target=\"_blank\"  href=\"https://github.com/maxjr82/MLinQCbook22-KMs/blob/master/CECAM/fitting_with_KRR_colab.ipynb\">\n",
        "    <img width=32px src=\"https://www.tensorflow.org/images/GitHub-Mark-32px.png\" />View source on GitHub</a>\n",
        "</td></table>"
      ],
      "id": "kmM10yoY7sBK"
    },
    {
      "cell_type": "markdown",
      "source": [
        "download necessary data if not exist"
      ],
      "metadata": {
        "id": "7Ws1tUlR3m4c"
      },
      "id": "7Ws1tUlR3m4c"
    },
    {
      "cell_type": "code",
      "source": [
        "! wget https://raw.githubusercontent.com/maxjr82/MLinQCbook22-KMs/master/notebooks/R_20.dat\n",
        "! wget https://raw.githubusercontent.com/maxjr82/MLinQCbook22-KMs/master/notebooks/E_FCI_20.dat\n",
        "! wget https://raw.githubusercontent.com/maxjr82/MLinQCbook22-KMs/master/notebooks/R_451.dat\n",
        "! wget https://raw.githubusercontent.com/maxjr82/MLinQCbook22-KMs/master/notebooks/E_FCI_451.dat\n",
        "! wget https://raw.githubusercontent.com/maxjr82/MLinQCbook22-KMs/master/notebooks/itrain.dat\n",
        "! wget https://raw.githubusercontent.com/maxjr82/MLinQCbook22-KMs/master/notebooks/itest.dat"
      ],
      "metadata": {
        "id": "CMFa1p2k3aMh"
      },
      "id": "CMFa1p2k3aMh",
      "execution_count": null,
      "outputs": []
    },
    {
      "cell_type": "code",
      "execution_count": 2,
      "id": "1ca66374-2a2b-4e05-8df1-5ab3e4c2246f",
      "metadata": {
        "id": "1ca66374-2a2b-4e05-8df1-5ab3e4c2246f"
      },
      "outputs": [],
      "source": [
        "import numpy as np\n",
        "import matplotlib.pyplot as plt"
      ]
    },
    {
      "cell_type": "markdown",
      "id": "3974350a-c283-4fde-ac23-0163d6e51bce",
      "metadata": {
        "id": "3974350a-c283-4fde-ac23-0163d6e51bce"
      },
      "source": [
        "# define KRR class and formula explanation"
      ]
    },
    {
      "cell_type": "markdown",
      "id": "aa5b4b53-3d59-4bbb-90da-3630602c9967",
      "metadata": {
        "id": "aa5b4b53-3d59-4bbb-90da-3630602c9967"
      },
      "source": [
        "## KRR class\n",
        "\n",
        "**lambda_** defines the hyperparameter $\\lambda$   \n",
        "**sigma** defines the hyperparameter $\\sigma$   \n",
        "kernel can be 'Linear' or 'Gaussian'   \n",
        "use method **fit(X, y)** to train a model   \n",
        " - X: size (N, p), N data, p dimension  \n",
        " - y: size (N, 1), N data  \n",
        " - you can use **arr.reshape(-1, 1)** to reshape y variable  \n",
        " \n",
        "ues method **predict(X)** to make prediction with given X  \n",
        " - return y: size (N, 1) \n",
        "\n",
        "\n",
        "## training formula:\n",
        "\n",
        "$$ \\alpha = (K + \\lambda I)^{-1} \\boldsymbol{y} $$  \n",
        "the size of $\\alpha$ is: (N, 1)  \n",
        "where K is $K=k(x_i, x_j)$,  \n",
        "I is the identity matrix with the same size with K  \n",
        "y is the target value, size (N, 1)  \n",
        "\n",
        "\n",
        "## prediction formula:\n",
        "\n",
        "$$ y^{*} = K^{*} \\alpha  $$  \n",
        "$K^{*}$ is the kernel matrix $K(x_{test}, x_{train})$  \n",
        "the result $y^{*}$ is the has the size (N_test, 1)  \n"
      ]
    },
    {
      "cell_type": "code",
      "execution_count": 16,
      "id": "0a23a3f1-9542-4dec-a6d6-1d989a410cc4",
      "metadata": {
        "id": "0a23a3f1-9542-4dec-a6d6-1d989a410cc4"
      },
      "outputs": [],
      "source": [
        "class KRR():\n",
        "    def __init__(self, kernel='Linear', lambda_=0.1, **kw):\n",
        "        self.kernel = getattr(self, kernel)\n",
        "        self.params = {'lambda': lambda_, 'sigma': 0.01}\n",
        "        for k, v in kw.items():\n",
        "            self.params[k] = v\n",
        "        self.train_x = None\n",
        "        self.alpha = None\n",
        "    \n",
        "    def Linear(self, x1, x2):\n",
        "        return x1 @ x2.T\n",
        "    \n",
        "    def Gaussian(self, x1, x2):\n",
        "        dist = np.sum(x1**2, 1).reshape(-1, 1) \\\n",
        "               + np.sum(x2**2, 1) \\\n",
        "               - 2*np.dot(x1, x2.T)\n",
        "        return np.exp(-0.5 * dist / (self.params['sigma']**2))\n",
        "    \n",
        "    def fit(self, X, y):\n",
        "        self.train_x = np.asarray(X)\n",
        "        self.train_y = np.asarray(y).reshape(-1, 1)\n",
        "        K = self.kernel(self.train_x, self.train_x)\n",
        "        self.alpha = np.linalg.inv(K + self.params['lambda'] * np.eye(len(self.train_x))) @ self.train_y\n",
        "    \n",
        "    def predict(self, X):\n",
        "        self.pred_x = np.asarray(X)\n",
        "        K = self.kernel(self.pred_x, self.train_x)\n",
        "        return K @ self.alpha"
      ]
    },
    {
      "cell_type": "markdown",
      "id": "a247fa7c-53da-4524-b733-99b8e638d29e",
      "metadata": {
        "id": "a247fa7c-53da-4524-b733-99b8e638d29e"
      },
      "source": [
        "# Training KRR with the linear kernel"
      ]
    },
    {
      "cell_type": "code",
      "execution_count": 17,
      "id": "034b3316-f284-4120-9a34-88d2be4d5688",
      "metadata": {
        "id": "034b3316-f284-4120-9a34-88d2be4d5688"
      },
      "outputs": [],
      "source": [
        "# load FCI 20 points data for H2\n",
        "x = np.loadtxt('R_20.dat')\n",
        "y = np.loadtxt('E_FCI_20.dat')"
      ]
    },
    {
      "cell_type": "code",
      "execution_count": 18,
      "id": "3cf0a13e-f1fd-4e88-9e0a-d2c0b93146b6",
      "metadata": {
        "colab": {
          "base_uri": "https://localhost:8080/"
        },
        "id": "3cf0a13e-f1fd-4e88-9e0a-d2c0b93146b6",
        "outputId": "ffcb16e5-941b-404a-c85f-2cd6be0fd9bb"
      },
      "outputs": [
        {
          "output_type": "execute_result",
          "data": {
            "text/plain": [
              "(array([0.5 , 0.73, 0.97, 1.21, 1.44, 1.68, 1.92, 2.15, 2.39, 2.63, 2.86,\n",
              "        3.1 , 3.34, 3.57, 3.81, 4.05, 4.28, 4.52, 4.76, 5.  ]),\n",
              " array([-1.1041324 , -1.1742703 , -1.1523302 , -1.1122911 , -1.0763637 ,\n",
              "        -1.04709854, -1.0269981 , -1.01498208, -1.00778427, -1.00394841,\n",
              "        -1.00204266, -1.00102643, -1.00052105, -1.0002772 , -1.00014714,\n",
              "        -1.0000809 , -1.00004767, -1.00002852, -1.00001888, -1.00001171]))"
            ]
          },
          "metadata": {},
          "execution_count": 18
        }
      ],
      "source": [
        "x, y # let's check the data"
      ]
    },
    {
      "cell_type": "code",
      "execution_count": 19,
      "id": "5ea2cbbf-b76c-436f-ae2b-b3552a9fbc90",
      "metadata": {
        "colab": {
          "base_uri": "https://localhost:8080/",
          "height": 317
        },
        "id": "5ea2cbbf-b76c-436f-ae2b-b3552a9fbc90",
        "outputId": "3548b22e-45f1-4226-b848-a0683154a066"
      },
      "outputs": [
        {
          "output_type": "execute_result",
          "data": {
            "text/plain": [
              "<matplotlib.legend.Legend at 0x7fd864fa2150>"
            ]
          },
          "metadata": {},
          "execution_count": 19
        },
        {
          "output_type": "display_data",
          "data": {
            "text/plain": [
              "<Figure size 432x288 with 1 Axes>"
            ],
            "image/png": "[encoded data removed]"
          },
          "metadata": {
            "needs_background": "light"
          }
        }
      ],
      "source": [
        "# define a KRR model with linear kernel.\n",
        "krr = KRR(kernel='Linear', lambda_=0.000001)  \n",
        "# fit train this model with data\n",
        "krr.fit(x.reshape(-1, 1), y.reshape(-1, 1))\n",
        "\n",
        "# make prediction, 100 points ranging from 0.5 to 5\n",
        "test_x = np.linspace(0.5, 5, 100) \n",
        "test_y = krr.predict(test_x.reshape(-1, 1))\n",
        "\n",
        "# plot the result\n",
        "plt.plot(test_x, test_y.ravel(), label='prediction')\n",
        "plt.plot(x, y, 'ro', label='training data')\n",
        "plt.title('KRR trained with E_FCI_20 data and Linear kernel')\n",
        "plt.xlabel('R, $\\mathrm{\\AA}$'); plt.ylabel('E_FCI, Hartree')\n",
        "plt.legend()"
      ]
    },
    {
      "cell_type": "markdown",
      "id": "7e53a117-f02a-4fe4-bea2-ae685d307c0e",
      "metadata": {
        "tags": [],
        "id": "7e53a117-f02a-4fe4-bea2-ae685d307c0e"
      },
      "source": [
        "# Training KRR with the Gaussian kernel"
      ]
    },
    {
      "cell_type": "code",
      "execution_count": 20,
      "id": "cc60056f-f8e6-40d9-b077-160bf90a9ba6",
      "metadata": {
        "id": "cc60056f-f8e6-40d9-b077-160bf90a9ba6"
      },
      "outputs": [],
      "source": [
        "# load data with FCI 451 points for H2\n",
        "x = np.loadtxt('R_451.dat')\n",
        "y = np.loadtxt('E_FCI_451.dat')\n",
        "# load the index for train and test data set\n",
        "train_idx = np.loadtxt('itrain.dat', dtype=np.int64) - 1\n",
        "test_idx = np.loadtxt('itest.dat', dtype=np.int64) - 1"
      ]
    },
    {
      "cell_type": "code",
      "execution_count": 21,
      "id": "ae748e73-7ef0-4b17-81cf-b0ae3dd8b503",
      "metadata": {
        "colab": {
          "base_uri": "https://localhost:8080/"
        },
        "id": "ae748e73-7ef0-4b17-81cf-b0ae3dd8b503",
        "outputId": "40b7dddb-4660-4817-9613-994da623165e"
      },
      "outputs": [
        {
          "output_type": "execute_result",
          "data": {
            "text/plain": [
              "(array([  0,  23,  47,  71,  94, 118, 142, 165, 189, 213, 236, 260, 284,\n",
              "        307, 331, 355, 378, 402, 426, 450]),\n",
              " array([  1,   2,   3,   4,   5,   6,   7,   8,   9,  10,  11,  12,  13,\n",
              "         14,  15,  16,  17,  18,  19,  20,  21,  22,  24,  25,  26,  27,\n",
              "         28,  29,  30,  31,  32,  33,  34,  35,  36,  37,  38,  39,  40,\n",
              "         41,  42,  43,  44,  45,  46,  48,  49,  50,  51,  52,  53,  54,\n",
              "         55,  56,  57,  58,  59,  60,  61,  62,  63,  64,  65,  66,  67,\n",
              "         68,  69,  70,  72,  73,  74,  75,  76,  77,  78,  79,  80,  81,\n",
              "         82,  83,  84,  85,  86,  87,  88,  89,  90,  91,  92,  93,  95,\n",
              "         96,  97,  98,  99, 100, 101, 102, 103, 104, 105, 106, 107, 108,\n",
              "        109, 110, 111, 112, 113, 114, 115, 116, 117, 119, 120, 121, 122,\n",
              "        123, 124, 125, 126, 127, 128, 129, 130, 131, 132, 133, 134, 135,\n",
              "        136, 137, 138, 139, 140, 141, 143, 144, 145, 146, 147, 148, 149,\n",
              "        150, 151, 152, 153, 154, 155, 156, 157, 158, 159, 160, 161, 162,\n",
              "        163, 164, 166, 167, 168, 169, 170, 171, 172, 173, 174, 175, 176,\n",
              "        177, 178, 179, 180, 181, 182, 183, 184, 185, 186, 187, 188, 190,\n",
              "        191, 192, 193, 194, 195, 196, 197, 198, 199, 200, 201, 202, 203,\n",
              "        204, 205, 206, 207, 208, 209, 210, 211, 212, 214, 215, 216, 217,\n",
              "        218, 219, 220, 221, 222, 223, 224, 225, 226, 227, 228, 229, 230,\n",
              "        231, 232, 233, 234, 235, 237, 238, 239, 240, 241, 242, 243, 244,\n",
              "        245, 246, 247, 248, 249, 250, 251, 252, 253, 254, 255, 256, 257,\n",
              "        258, 259, 261, 262, 263, 264, 265, 266, 267, 268, 269, 270, 271,\n",
              "        272, 273, 274, 275, 276, 277, 278, 279, 280, 281, 282, 283, 285,\n",
              "        286, 287, 288, 289, 290, 291, 292, 293, 294, 295, 296, 297, 298,\n",
              "        299, 300, 301, 302, 303, 304, 305, 306, 308, 309, 310, 311, 312,\n",
              "        313, 314, 315, 316, 317, 318, 319, 320, 321, 322, 323, 324, 325,\n",
              "        326, 327, 328, 329, 330, 332, 333, 334, 335, 336, 337, 338, 339,\n",
              "        340, 341, 342, 343, 344, 345, 346, 347, 348, 349, 350, 351, 352,\n",
              "        353, 354, 356, 357, 358, 359, 360, 361, 362, 363, 364, 365, 366,\n",
              "        367, 368, 369, 370, 371, 372, 373, 374, 375, 376, 377, 379, 380,\n",
              "        381, 382, 383, 384, 385, 386, 387, 388, 389, 390, 391, 392, 393,\n",
              "        394, 395, 396, 397, 398, 399, 400, 401, 403, 404, 405, 406, 407,\n",
              "        408, 409, 410, 411, 412, 413, 414, 415, 416, 417, 418, 419, 420,\n",
              "        421, 422, 423, 424, 425, 427, 428, 429, 430, 431, 432, 433, 434,\n",
              "        435, 436, 437, 438, 439, 440, 441, 442, 443, 444, 445, 446, 447,\n",
              "        448, 449]))"
            ]
          },
          "metadata": {},
          "execution_count": 21
        }
      ],
      "source": [
        "train_idx, test_idx # let's check the index"
      ]
    },
    {
      "cell_type": "code",
      "execution_count": 22,
      "id": "505003fb-5eab-4259-a807-60b26a303d6a",
      "metadata": {
        "id": "505003fb-5eab-4259-a807-60b26a303d6a"
      },
      "outputs": [],
      "source": [
        "# get train & test data through index\n",
        "train_x, train_y = x[train_idx], y[train_idx]\n",
        "test_x, test_y = x[test_idx], y[test_idx]"
      ]
    },
    {
      "cell_type": "code",
      "execution_count": 23,
      "id": "3e1aacbb-da5f-4b88-9146-574924a5c4ee",
      "metadata": {
        "colab": {
          "base_uri": "https://localhost:8080/",
          "height": 317
        },
        "id": "3e1aacbb-da5f-4b88-9146-574924a5c4ee",
        "outputId": "0d579538-6e8b-4350-8214-3833cdd4dfd2"
      },
      "outputs": [
        {
          "output_type": "execute_result",
          "data": {
            "text/plain": [
              "<matplotlib.legend.Legend at 0x7fd864fcb690>"
            ]
          },
          "metadata": {},
          "execution_count": 23
        },
        {
          "output_type": "display_data",
          "data": {
            "text/plain": [
              "<Figure size 432x288 with 1 Axes>"
            ],
            "image/png": "[encoded data removed]"
          },
          "metadata": {
            "needs_background": "light"
          }
        }
      ],
      "source": [
        "# define a KRR model with linear kernel, and trian it\n",
        "krr = KRR(kernel='Gaussian', sigma=1, lambda_=3.5e-13)\n",
        "krr.fit(train_x.reshape(-1, 1), train_y.reshape(-1, 1))\n",
        "\n",
        "# make prediction\n",
        "pred_y = krr.predict(test_x.reshape(-1, 1))\n",
        "\n",
        "# plot the result\n",
        "plt.plot(test_x, pred_y.ravel(), label='prediction')\n",
        "plt.plot(x, y, lw=10, alpha=0.3, label='groud truth')\n",
        "plt.plot(train_x, train_y, 'ro', label='training data')\n",
        "plt.title('KRR trained with E_FCI_451 data and Gaussian kernel')\n",
        "plt.xlabel('R, $\\mathrm{\\AA}$'); plt.ylabel('E_FCI, Hartree')\n",
        "plt.legend()"
      ]
    }
  ],
  "metadata": {
    "kernelspec": {
      "display_name": "Python 3 (ipykernel)",
      "language": "python",
      "name": "python3"
    },
    "language_info": {
      "codemirror_mode": {
        "name": "ipython",
        "version": 3
      },
      "file_extension": ".py",
      "mimetype": "text/x-python",
      "name": "python",
      "nbconvert_exporter": "python",
      "pygments_lexer": "ipython3",
      "version": "3.7.6"
    },
    "colab": {
      "provenance": []
    }
  },
  "nbformat": 4,
  "nbformat_minor": 5
}